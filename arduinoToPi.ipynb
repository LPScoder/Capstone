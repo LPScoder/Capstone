#include <Nano33BLEAccelerometer.h>
#include "Arduino.h"
#include <ArduinoBLE>
#include "Nano33BLEAccelerometer.h"

// Define Bluetooth-related constants
#define BLE_DEVICE_NAME "Arduino Nano 33 BLE Sense"
#define BLE_LOCAL_NAME "Accelerometer BLE"

// Declare objects for accelerometer data and Bluetooth service/characteristic
Nano33BLEAccelerometerData accelerometerData;
BLEService BLEAccelerometer("590d65c7-3a0a-4023-a05a-6aaf2f22441c"); //BLE ID for arduino 
BLECharacteristic accelerometerXBLE("0004", BLERead | BLENotify | BLEBroadcast, 12);

// Declare a union to handle conversion between float and byte array
union
{
  float a[3];
  unsigned char bytes[12];
} accData;

// Setup function
void setup()
{
    Serial.begin(115200);
    pinMode(2, INPUT_PULLUP);

    // Initialize accelerometer data with zeros
    const unsigned char initializerAcc[12] = {0, 0, 0, 0, 0, 0, 0, 0, 0, 0, 0, 0};

    // Begin BLE communication
    if (!BLE.begin())
    {
        while (1); // Hang in case of BLE initialization failure
    }
    else
    {
        // Configure BLE device and service
        BLE.setDeviceName(BLE_DEVICE_NAME);
        BLE.setLocalName(BLE_LOCAL_NAME);
        BLE.setAdvertisedService(BLEAccelerometer);

        // Add accelerometer characteristic to the service
        BLEAccelerometer.addCharacteristic(accelerometerXBLE);
        accelerometerXBLE.setValue(initializerAcc, 12);

        // Add the service and start advertising
        BLE.addService(BLEAccelerometer);
        BLE.advertise();

        // Initialize the accelerometer
        Accelerometer.begin();
    }
}

// Loop function
void loop()
{
    // Check for a central BLE device
    BLEDevice central = BLE.central();
    if (central)
    {
        // Enter this block if a central device is connected
        int writeLength;

        // Continue while the central device is connected
        while (central.connected())
        {
            // Check if the button is pressed (LOW)
            if (digitalRead(2) == LOW)
            {
                // Pop accelerometer data from the queue
                if (Accelerometer.pop(accelerometerData))
                {
                    // Store accelerometer data in the union for byte conversion
                    accData.a[0] = accelerometerData.x;
                    accData.a[1] = accelerometerData.y;
                    accData.a[2] = accelerometerData.z;
                    unsigned char *acc = (unsigned char *)&accData;

                    // Update the Bluetooth characteristic with accelerometer data
                    accelerometerXBLE.setValue(acc, 12);

                    // Print accelerometer data to Serial Monitor
                    Serial.print(accelerometerData.x, 2);
                    Serial.print(",");
                    Serial.print(accelerometerData.y, 2);
                    Serial.print(",");
                    Serial.print(accelerometerData.z, 2);
                    Serial.println();
                }
            }
        }
    }
}
