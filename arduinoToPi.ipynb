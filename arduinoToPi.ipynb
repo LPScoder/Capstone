{
  "nbformat": 4,
  "nbformat_minor": 0,
  "metadata": {
    "colab": {
      "provenance": []
    },
    "kernelspec": {
      "name": "python3",
      "display_name": "Python 3"
    },
    "language_info": {
      "name": "python"
    }
  },
  "cells": [
    {
      "cell_type": "code",
      "execution_count": null,
      "metadata": {
        "id": "LW77t5kDIZlR"
      },
      "outputs": [],
      "source": [
        "import binascii\n",
        "import struct\n",
        "import time\n",
        "from bluepy.btle import UUID, Peripheral\n",
        "\n",
        "temp_uuid = UUID(\"590d65c7-3a0a-4023-a05a-6aaf2f22441c\")\n",
        "p = Peripheral(\"e7:54:dd:83:cd:fe\", \"public\")\n",
        "services = p.getServices()\n",
        "file = open(\"bluetooth_data.txt\", \"w+\")\n",
        "try:\n",
        "    ch = p.getCharacteristics(uuid=UUID(0x0004))[0]\n",
        "    while True:\n",
        "        val = ch.read()\n",
        "        data = struct.iter_unpack('<fff', val)\n",
        "        for item in data:\n",
        "            item_str = ' '.join(map(str, item))\n",
        "            file.write(item_str + '\\n')\n",
        "finally:\n",
        "    p.disconnect()"
      ]
    }
  ]
}