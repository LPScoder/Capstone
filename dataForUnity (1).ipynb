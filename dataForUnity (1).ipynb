{
  "nbformat": 4,
  "nbformat_minor": 0,
  "metadata": {
    "colab": {
      "provenance": []
    },
    "kernelspec": {
      "name": "python3",
      "display_name": "Python 3"
    },
    "language_info": {
      "name": "python"
    }
  },
  "cells": [
    {
      "cell_type": "code",
      "execution_count": null,
      "metadata": {
        "id": "LgZ0-E2LL2nB"
      },
      "outputs": [],
      "source": [
        "import math\n",
        "import numpy as np\n",
        "import random\n",
        "import sys\n",
        "\n",
        "v0x = 0\n",
        "v0y = 0\n",
        "v0z = 0\n",
        "numLines = 0\n",
        "lst = [0, 0, 0]\n",
        "lastLst = 0\n",
        "\n",
        "f = open(\"bluetooth_data.txt\", \"r\")\n",
        "for line in f:\n",
        "        lst = line.split()\n",
        "        if lst[0] == 0 or lst[0] == lastLst:\n",
        "                continue\n",
        "        lastLst = lst[0]\n",
        "        numLines = numLines + 1\n",
        "f.close()\n",
        "tracker = numLines\n",
        "f = open(\"bluetooth_data.txt\", \"r\")\n",
        "for lines in f:\n",
        "        lst = lines.split()\n",
        "        if lst[0] == 0.0 or lst[0] == lastLst:\n",
        "                continue\n",
        "        print(lst)\n",
        "        lastLst = lst[0]\n",
        "        v0x = (float(lst[0])*9.8)*(1/(numLines-2)) + v0x\n",
        "        v0y = (float(lst[1])*9.8)*(1/(numLines-2)) + v0y\n",
        "        v0z = (float(lst[2])*9.8)*(1/(numLines-2)) + v0z\n",
        "        tracker -= 1\n",
        "        if tracker < 3:\n",
        "                break\n",
        "f.close()\n",
        "vx = v0x\n",
        "vy = v0y\n",
        "vz = v0z\n",
        "\n",
        "uDist = 2.1336 #recieves data from the ultrasonice sensor on how far user is\n",
        "uHeight = 0 #the user will input this value... how much taller their throwing hand is than the bullseye\n",
        "\n",
        "if vx <= 0.1:\n",
        "        sys.exit(\"You can't throw the dart backwards, and try not to drop it either. Try Again!\")\n",
        "horizontalComponent = (vy/vx)*uDist #this is how far the dart has traveled left or right on the dart board\n",
        "\n",
        "distance = math.sqrt((uDist**2) + (horizontalComponent**2))\n",
        "\n",
        "vInitial = math.sqrt(vz**2+vx**2+vy**2) #the initial velocity of the dart towards the boards plane.\n",
        "\n",
        "angle = math.atan((-vz)/(math.sqrt(vx**2+vy**2))) # the angle of departure determined from the magnitude of the dart towards or away from the board\n",
        "#vs the z-axis height component of the dart\n",
        "\n",
        "vertComponent = uHeight + (distance*np.tan(angle))-((9.8*distance**2)/(2*(vInitial**2)*((np.cos(angle))**2))) #simple trajectory formula\n",
        "\n",
        "filen = open(\"unity.txt\", \"w+\")\n",
        "lst = [str(horizontalComponent) + ' ' + str(vertComponent)]\n",
        "filen.writelines(str(horizontalComponent/3) + ' ' + str((vertComponent/3)))\n",
        "filen.close()"
      ]
    }
  ]
}