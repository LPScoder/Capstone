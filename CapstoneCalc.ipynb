{
  "nbformat": 4,
  "nbformat_minor": 0,
  "metadata": {
    "colab": {
      "provenance": [],
      "authorship_tag": "ABX9TyP6HhG4D8yvO0+Tuma2fR+V",
      "include_colab_link": true
    },
    "kernelspec": {
      "name": "python3",
      "display_name": "Python 3"
    },
    "language_info": {
      "name": "python"
    }
  },
  "cells": [
    {
      "cell_type": "markdown",
      "metadata": {
        "id": "view-in-github",
        "colab_type": "text"
      },
      "source": [
        "<a href=\"https://colab.research.google.com/github/LPScoder/Capstone/blob/main/CapstoneCalc.ipynb\" target=\"_parent\"><img src=\"https://colab.research.google.com/assets/colab-badge.svg\" alt=\"Open In Colab\"/></a>"
      ]
    },
    {
      "cell_type": "code",
      "execution_count": null,
      "metadata": {
        "id": "yZQcHYaKwk3y",
        "colab": {
          "base_uri": "https://localhost:8080/",
          "height": 165
        },
        "outputId": "c8f7eb2c-832a-4c57-f09f-42485db7c2ad"
      },
      "outputs": [
        {
          "output_type": "stream",
          "name": "stdout",
          "text": [
            "Drive already mounted at /content/drive; to attempt to forcibly remount, call drive.mount(\"/content/drive\", force_remount=True).\n"
          ]
        },
        {
          "output_type": "error",
          "ename": "SystemExit",
          "evalue": "ignored",
          "traceback": [
            "An exception has occurred, use %tb to see the full traceback.\n",
            "\u001b[0;31mSystemExit\u001b[0m\u001b[0;31m:\u001b[0m You can't throw the dart backwards, and try not to drop it either. Try Again!\n"
          ]
        },
        {
          "output_type": "stream",
          "name": "stderr",
          "text": [
            "/usr/local/lib/python3.9/dist-packages/IPython/core/interactiveshell.py:3561: UserWarning: To exit: use 'exit', 'quit', or Ctrl-D.\n",
            "  warn(\"To exit: use 'exit', 'quit', or Ctrl-D.\", stacklevel=1)\n"
          ]
        }
      ],
      "source": [
        "import numpy as np\n",
        "import math\n",
        "import csv\n",
        "from google.colab import drive\n",
        "import random\n",
        "import sys\n",
        "\n",
        "drive.mount('/content/drive')\n",
        "\n",
        "filen = open(\"drive/MyDrive/filename.txt\", \"w+\")\n",
        "for i in range(1000):\n",
        "  L = [str(random.uniform(.1,.72))+' '+str(random.uniform(0, 0.05))+' '+str(random.uniform(0,.528))+'\\n'] #respective x, y, and z random values with common denominator of 9.8 (these are dummy values for testing)\n",
        "  filen.writelines(L)\n",
        "filen.close()\n",
        "#x is the distance to the board\n",
        "#z is the vertical axis of the board\n",
        "#y is the horizontal axis of the board\n",
        "\n",
        "#this is the seperation point from my rasp pi code to the data senders code.\n",
        "\n",
        "v0x = 0\n",
        "v0y = 0\n",
        "v0z = 0\n",
        "\n",
        "#will write this later this will read from the file that is provided\n",
        "f = open(\"drive/MyDrive/filename.txt\", \"r\")\n",
        "#these calculations are assumed that the acceleration given will be given all with the common denominator 9.8 which is the accleration of gravity.\n",
        "for line in f: #takes in a line from the document until there are no more lines\n",
        "  lst = line.split() #splits each line into the individual numbers and places them in a list\n",
        "  v0x = (float(lst[0])*9.8)*0.001 + v0x #this is the simple equation to calculate velocity from acceleration V = V0 + at\n",
        "  v0y = (float(lst[1])*9.8)*0.001 + v0y #i perform this equation for x, y, and z velocities so that my calculations will work\n",
        "  v0z = (float(lst[2])*9.8)*0.001 + v0z\n",
        "f.close()\n",
        "vx = 0 #determine the velocity vectors from the acceleration data. in METERS\n",
        "vy = 0\n",
        "vz = 0\n",
        "\n",
        "# \"u\" stands for user and \"d\" stands for dartboard\n",
        "uDist = 2.1336 #this is the distance that the user will be standing from the dart board (required standing distance) in METERS (7feet)\n",
        "uHeight = 0 #this will be the height of the user determined from the bullseye (origin)\n",
        "dHeight = 1.7272 #the default height of the bullseye from the ground in METERS this is 5feet 8inches\n",
        "\n",
        "if vx <= 0.1:\n",
        "  sys.exit(\"You can't throw the dart backwards, and try not to drop it either. Try Again!\")\n",
        "\n",
        "#the horizontal component will be entirely based off of the y and the x vector components\n",
        "horizontalComponent = (vy/vx)*uDist #this is will be the horizontal component of the dart landing.\n",
        "\n",
        "#calculate the distance of the diagonal from the user to the board\n",
        "distance = math.sqrt((uDist**2)+(horizontalComponent**2))\n",
        "#print(\"distance: \")\n",
        "#print(distance)\n",
        "\n",
        "#calculate the initial velocity of the dart\n",
        "vInitial = math.sqrt(vz**2+ vx**2+vy**2)\n",
        "\n",
        "angle = math.atan(vz/(math.sqrt(vx**2+vy**2)))# new angle formula because the old one was not considering new x-y plane velocity\n",
        "\n",
        "#print(\"\\nv initial: \")\n",
        "#print(vInitial)\n",
        "\n",
        "#calculate the trajectory\n",
        "vertComponent = uHeight + (distance*np.tan(angle))-((9.8*distance**2)/(2*(vInitial**2)*((np.cos(angle))**2))) #simple trajectory formula\n",
        "\n",
        "#csv.writer(csvfile, dialect=’excel’, **fmtparams)\n",
        "print(\"\\nvelocity of x comp: \")\n",
        "print(vx)\n",
        "print(\"\\nvelocity of y comp: \")\n",
        "print(vy)\n",
        "print(\"\\nvelocity of z comp: \")\n",
        "print(vz)\n",
        "print(\"\\ncoordinates of darts location: \")\n",
        "print([horizontalComponent, vertComponent]) #final coordinates of the darts destination\n"
      ]
    },
    {
      "cell_type": "code",
      "source": [],
      "metadata": {
        "id": "6ksUAFTkQ5gq"
      },
      "execution_count": null,
      "outputs": []
    }
  ]
}